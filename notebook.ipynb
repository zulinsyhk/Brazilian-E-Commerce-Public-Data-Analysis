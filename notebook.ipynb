# Proyek Analisis Data: Nama dataset
- Nama: Khabib Zuliansyah   
- Email: khabiblpu@gmail.com
- Id Dicoding: khabib_zuliansyah
## Menentukan Pertanyaan Bisnis
- pertanyaan 1
- pertanyaan 2
## Menyiapkan semua library yang dibutuhkan
import pandas as pd
import matplotlib.pyplot as plt
import seaborn as sns
## Data Wrangling
### Gathering Data
customers_df = pd.read_csv("customers_dataset.csv", delimiter=",")
geolocation_df = pd.read_csv("geolocation_dataset.csv", delimiter=",")
order_items_df = pd.read_csv("order_items_dataset.csv", delimiter=",")
order_payments_df = pd.read_csv("order_payments_dataset.csv", delimiter=",")
order_reviews_df = pd.read_csv("order_reviews_dataset.csv", delimiter=",")
orders_df = pd.read_csv("orders_dataset.csv", delimiter=",")
product_category_df = pd.read_csv("product_category_name_translation.csv", delimiter=",")
products_df = pd.read_csv("products_dataset.csv", delimiter=",")
sellers_df = pd.read_csv("sellers_dataset.csv", delimiter=",")
### Assessing Data
#### Customers Dataset
customers_df.isnull().sum()
customers_df.duplicated().sum()
#### Geolocation Dataset
geolocation_df.isnull().sum()
geolocation_df.duplicated().sum()
#### Order Items Dataset
order_items_df.isnull().sum()
order_items_df.duplicated().sum()
#### Order Payment Dataset
order_payments_df.isnull().sum()
order_payments_df.duplicated().sum()
#### Order Reviews Dataset
order_reviews_df.isnull().sum()
order_reviews_df.duplicated().sum()
#### Orders Dataset
orders_df.isnull().sum()
orders_df.duplicated().sum()
#### Product Category Name Translation
product_category_df.isnull().sum()
product_category_df.duplicated().sum()
#### Product Dataset
products_df.isnull().sum()
products_df.duplicated().sum()
#### Seller Dataset
sellers_df.isnull().sum()
sellers_df.duplicated().sum()
### Cleaning Data
## Exploratoty Data Analysis (EDA)
## Visualization & Explanatory Analysis
## Conclusion
